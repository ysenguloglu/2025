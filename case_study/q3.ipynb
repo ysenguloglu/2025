{
 "cells": [
  {
   "cell_type": "markdown",
   "id": "6539d981",
   "metadata": {},
   "source": [
    "##### Soru 7:\n",
    "\n",
    "##### Bir müşterimiz enerji üretimini planlamak üzere, enerji tüketimi üzerinden bir forecasting çalışması yapmak istediğini belirterek bize danıştı.\n",
    "\n",
    "+ 1. Data Quality: Veri’de gözlemlediğiniz (missing, duplicates, out of range, vb.) durumlar var mıdır?\n",
    "\n",
    "+ 2. Descriptive Statistics: Veriyi bir zaman serisi olarak plot ederek gözlemlerinizi paylaşınız (saatlik, aylık, sezonluk, haftanın günleri).\n",
    "\n",
    "+ 3. Forecasting: İstediğiniz bir forecasting modeli ile verinizi “initialization” set, ve “holdout” set olarak ikiye bölün. Forecasting modelinizi “initialization” set üzerinde geliştirin Sonrasında da modelinizin perfomansını holdout set üzerinden değerlendirin. Değerlendirmede model parametrelerinizin ne anlama geldiğini ve parametrelerle ilgili verdiğiniz kararları açıklayın.\n",
    "\n",
    "+ 4. Evaluation: Bu projede performans indikatörü olarak MAPE kullanılacaktır. Bu kavramı içgörüş/intuition kullanarak kısaca açıkladıktan sonra, kullandığınız ya da seçtiğiniz modeldeki sonuçları açıklayınız. Ek olarak tahmin, gerçekleşen ve fark olmak üzere bir plot yaratın ve yorumlayın.\n",
    "\n",
    "+ 5. Proje kapsamında başka hangi verilere ihtiyaç olabilir? Ya da dikkat edilmesi dış faktörler neler olabilir?\n"
   ]
  },
  {
   "cell_type": "markdown",
   "id": "a8fe324a",
   "metadata": {},
   "source": []
  }
 ],
 "metadata": {
  "language_info": {
   "name": "python"
  }
 },
 "nbformat": 4,
 "nbformat_minor": 5
}
